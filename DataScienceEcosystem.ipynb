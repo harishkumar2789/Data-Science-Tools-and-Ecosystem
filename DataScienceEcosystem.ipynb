{
 "cells": [
  {
   "cell_type": "markdown",
   "id": "a423e6a6-219d-4e21-992d-07205c6bc509",
   "metadata": {},
   "source": [
    "# Data Science Tools and Ecosystem "
   ]
  },
  {
   "cell_type": "markdown",
   "id": "d8e8fb07-6c39-4398-acc9-f2799e944359",
   "metadata": {},
   "source": [
    "### In this notebook, Data Science Tools and Ecosystem are summarized."
   ]
  },
  {
   "cell_type": "markdown",
   "id": "910a8775-a49f-4abd-a2fb-ca7b77ebe4e3",
   "metadata": {},
   "source": [
    "Some of the popular languages that Data Scientists use are:\r\n",
    "1. Python\r\n",
    "2. R\r\n",
    "3. SQL\r\n",
    "4. Julia\r\n"
   ]
  },
  {
   "cell_type": "markdown",
   "id": "cdea5475-0462-4198-9c3a-f314d7f71cec",
   "metadata": {},
   "source": [
    "Some of the commonly used libraries used by Data Scientists include:\r\n",
    "1. Pandas\r\n",
    "2. NumPy\r\n",
    "3. Matplotlib\r\n",
    "4. Scikit-learn\r\n"
   ]
  },
  {
   "cell_type": "markdown",
   "id": "d2ceff46-8667-4dc5-98c9-e00f1abadb97",
   "metadata": {},
   "source": [
    "| Data Science Tools |\r\n",
    "|---------------------|\r\n",
    "| Jupyter Notebook    |\r\n",
    "| RStudio             |\r\n",
    "| Apache Zeppelin     |\r\n"
   ]
  },
  {
   "cell_type": "markdown",
   "id": "f7518362-dcec-4cd9-bf15-8a0d99acb6d4",
   "metadata": {},
   "source": [
    "### Below are a few examples of evaluating arithmetic expressions in Python.\r\n"
   ]
  },
  {
   "cell_type": "code",
   "execution_count": 1,
   "id": "1508edec-baa3-497d-915f-49b6b9a919bd",
   "metadata": {},
   "outputs": [
    {
     "data": {
      "text/plain": [
       "17"
      ]
     },
     "execution_count": 1,
     "metadata": {},
     "output_type": "execute_result"
    }
   ],
   "source": [
    "# This is a simple arithmetic expression to multiply then add integers.\n",
    "(3*4)+5\n"
   ]
  },
  {
   "cell_type": "code",
   "execution_count": 2,
   "id": "73016d52-b110-44c0-bbb8-d0eb8fd4d6fc",
   "metadata": {},
   "outputs": [
    {
     "data": {
      "text/plain": [
       "3.3333333333333335"
      ]
     },
     "execution_count": 2,
     "metadata": {},
     "output_type": "execute_result"
    }
   ],
   "source": [
    "# This will convert 200 minutes to hours by dividing by 60.\n",
    "200 / 60\n"
   ]
  },
  {
   "cell_type": "markdown",
   "id": "d39c96c9-dec3-4cf8-b220-4b1f99315632",
   "metadata": {},
   "source": [
    "**Objectives:**\n",
    "- List popular languages for Data Science\n",
    "- List commonly used libraries\n",
    "- Create and format markdown cells\n",
    "- Evaluate basic arithmetic operations in Python\n",
    "- Create and share a Jupyter Notebook via GitHub\n"
   ]
  },
  {
   "cell_type": "markdown",
   "id": "d8083d0f-6e4f-4479-9e38-c33732441184",
   "metadata": {},
   "source": [
    "## Author\r",
    "Harish Kumar\n",
    "\r\n"
   ]
  },
  {
   "cell_type": "code",
   "execution_count": null,
   "id": "cb86360e-c536-4d86-9447-1f9aaad3995f",
   "metadata": {},
   "outputs": [],
   "source": []
  }
 ],
 "metadata": {
  "kernelspec": {
   "display_name": "Python 3 (ipykernel)",
   "language": "python",
   "name": "python3"
  },
  "language_info": {
   "codemirror_mode": {
    "name": "ipython",
    "version": 3
   },
   "file_extension": ".py",
   "mimetype": "text/x-python",
   "name": "python",
   "nbconvert_exporter": "python",
   "pygments_lexer": "ipython3",
   "version": "3.11.7"
  }
 },
 "nbformat": 4,
 "nbformat_minor": 5
}
